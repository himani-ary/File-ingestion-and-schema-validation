{
  "nbformat": 4,
  "nbformat_minor": 0,
  "metadata": {
    "colab": {
      "provenance": []
    },
    "kernelspec": {
      "name": "python3",
      "display_name": "Python 3"
    },
    "language_info": {
      "name": "python"
    }
  },
  "cells": [
    {
      "cell_type": "code",
      "execution_count": null,
      "metadata": {
        "colab": {
          "base_uri": "https://localhost:8080/"
        },
        "id": "VBdqZG6aL1Q3",
        "outputId": "1aa06fc5-cf21-4f25-ab2e-4d35d5863308"
      },
      "outputs": [
        {
          "output_type": "stream",
          "name": "stdout",
          "text": [
            "Overwriting testutility.py\n"
          ]
        }
      ],
      "source": [
        "%%writefile testutility.py\n",
        "import logging\n",
        "import os\n",
        "import subprocess\n",
        "import yaml\n",
        "import pandas as pd\n",
        "import datetime\n",
        "import gc\n",
        "import re\n",
        "\n",
        "# File Reading\n",
        "\n",
        "def read_config_file(filepath):\n",
        "    with open(filepath, 'r') as stream:\n",
        "        try:\n",
        "            return yaml.safe_load(stream)\n",
        "        except yaml.YAMLError as exc:\n",
        "            logging.error(exc)\n",
        "\n",
        "\n",
        "def replacer(string, char):\n",
        "    pattern = char + '{2,}'\n",
        "    string = re.sub(pattern, char, string)\n",
        "    return string\n",
        "\n",
        "def col_header_val(df,table_config):\n",
        "    '''\n",
        "    replace whitespaces in the column\n",
        "    and standardized column names\n",
        "    '''\n",
        "    df.columns = df.columns.str.lower()\n",
        "    df.columns = df.columns.str.replace('[^\\w]','_',regex=True)\n",
        "    df.columns = list(map(lambda x: x.strip('_'), list(df.columns)))\n",
        "    df.columns = list(map(lambda x: replacer(x,'_'), list(df.columns)))\n",
        "    expected_col = list(map(lambda x: x.lower(),  table_config['columns']))\n",
        "    expected_col.sort()\n",
        "    df.columns =list(map(lambda x: x.lower(), list(df.columns)))\n",
        "    df = df.reindex(sorted(df.columns), axis=1)\n",
        "    if len(df.columns) == len(expected_col) and list(expected_col)  == list(df.columns):\n",
        "        print(\"column name and column length validation passed\")\n",
        "        return 1\n",
        "    else:\n",
        "        print(\"column name and column length validation failed\")\n",
        "        mismatched_columns_file = list(set(df.columns).difference(expected_col))\n",
        "        print(\"Following File columns are not in the YAML file\",mismatched_columns_file)\n",
        "        missing_YAML_file = list(set(expected_col).difference(df.columns))\n",
        "        print(\"Following YAML columns are not in the file uploaded\",missing_YAML_file)\n",
        "        logging.info(f'df columns: {df.columns}')\n",
        "        logging.info(f'expected columns: {expected_col}')\n",
        "        return 0"
      ]
    },
    {
      "cell_type": "code",
      "source": [
        "%%writefile file.yaml\n",
        "file_type: csv\n",
        "dataset_name: testfile\n",
        "file_name: test_data\n",
        "table_name: edsurv\n",
        "inbound_delimiter: \";\"\n",
        "outbound_delimiter: \"|\"\n",
        "skip_leading_rows: 1\n",
        "columns:\n",
        "    - Period\n",
        "    - Data\n",
        "    - Magnitude\n",
        "    - Subject\n",
        "    - Group\n",
        "    - Series\n",
        "\n"
      ],
      "metadata": {
        "colab": {
          "base_uri": "https://localhost:8080/"
        },
        "id": "qKj0GABXL3NL",
        "outputId": "b346477b-0626-4beb-c92e-4c57bd8bc8f1"
      },
      "execution_count": null,
      "outputs": [
        {
          "output_type": "stream",
          "name": "stdout",
          "text": [
            "Overwriting file.yaml\n"
          ]
        }
      ]
    },
    {
      "cell_type": "code",
      "source": [
        "# Read config file\n",
        "import testutility as util\n",
        "config_data = util.read_config_file(\"file.yaml\")"
      ],
      "metadata": {
        "id": "sdMveK61L7I7"
      },
      "execution_count": null,
      "outputs": []
    },
    {
      "cell_type": "code",
      "source": [
        "config_data['inbound_delimiter']"
      ],
      "metadata": {
        "colab": {
          "base_uri": "https://localhost:8080/",
          "height": 35
        },
        "id": "JtAt8pPkL9g9",
        "outputId": "0abee848-beae-4d61-ba46-13322424dff6"
      },
      "execution_count": null,
      "outputs": [
        {
          "output_type": "execute_result",
          "data": {
            "text/plain": [
              "';'"
            ],
            "application/vnd.google.colaboratory.intrinsic+json": {
              "type": "string"
            }
          },
          "metadata": {},
          "execution_count": 4
        }
      ]
    },
    {
      "cell_type": "code",
      "source": [
        "#inspecting data of config file\n",
        "config_data"
      ],
      "metadata": {
        "colab": {
          "base_uri": "https://localhost:8080/"
        },
        "id": "Pz-xjspkL_8o",
        "outputId": "8ac76a16-a5a2-4fda-84aa-9aeef4a42ee7"
      },
      "execution_count": null,
      "outputs": [
        {
          "output_type": "execute_result",
          "data": {
            "text/plain": [
              "{'file_type': 'csv',\n",
              " 'dataset_name': 'testfile',\n",
              " 'file_name': 'test_data',\n",
              " 'table_name': 'edsurv',\n",
              " 'inbound_delimiter': ';',\n",
              " 'outbound_delimiter': '|',\n",
              " 'skip_leading_rows': 1,\n",
              " 'columns': ['Period', 'Data', 'Magnitude', 'Subject', 'Group', 'Series']}"
            ]
          },
          "metadata": {},
          "execution_count": 8
        }
      ]
    },
    {
      "cell_type": "code",
      "source": [
        "from google.colab import drive\n",
        "drive.mount('/content/drive')\n"
      ],
      "metadata": {
        "colab": {
          "base_uri": "https://localhost:8080/"
        },
        "id": "U3eASz_2fO91",
        "outputId": "e277f340-ef33-4ba8-cb28-db7b6d466bed"
      },
      "execution_count": null,
      "outputs": [
        {
          "output_type": "stream",
          "name": "stdout",
          "text": [
            "Mounted at /content/drive\n"
          ]
        }
      ]
    },
    {
      "cell_type": "code",
      "source": [
        "import os\n",
        "print(os.listdir())"
      ],
      "metadata": {
        "colab": {
          "base_uri": "https://localhost:8080/"
        },
        "id": "pLkMVbZLetkf",
        "outputId": "77eae86e-0c2c-4c71-9127-34936215fa17"
      },
      "execution_count": null,
      "outputs": [
        {
          "output_type": "stream",
          "name": "stdout",
          "text": [
            "['.config', 'file.yaml', '__pycache__', 'testutility.py', 'final_animedataset.csv', 'drive', 'sample_data']\n"
          ]
        }
      ]
    },
    {
      "cell_type": "code",
      "source": [
        "import pandas as pd\n",
        "\n",
        "try:\n",
        "    # Read the CSV file with the correct delimiter (tab '\\t')\n",
        "    csv_file_path = \"/content/drive/MyDrive/final_animedataset.csv\"\n",
        "    df_sample = pd.read_csv(csv_file_path, delimiter='\\t')\n",
        "\n",
        "    # Display the first few rows of the DataFrame\n",
        "    print(df_sample.head())\n",
        "except FileNotFoundError:\n",
        "    print(\"Error: File not found.\")\n",
        "except pd.errors.EmptyDataError:\n",
        "    print(\"Error: The file is empty or contains no data.\")\n",
        "except pd.errors.ParserError:\n",
        "    print(\"Error: There was an issue parsing the CSV file. Check the format and delimiter.\")\n",
        "except Exception as e:\n",
        "    print(\"An unexpected error occurred:\", str(e))"
      ],
      "metadata": {
        "colab": {
          "base_uri": "https://localhost:8080/"
        },
        "id": "86x4HXzYfFuQ",
        "outputId": "e9b7f04f-d16b-4785-de6a-6d3b920a9cf5"
      },
      "execution_count": null,
      "outputs": [
        {
          "output_type": "stream",
          "name": "stdout",
          "text": [
            "  username,anime_id,my_score,user_id,gender,title,type,source,score,scored_by,rank,popularity,genre\n",
            "0  karthiga,21,9,2255153,Female,One Piece,TV,Mang...                                               \n",
            "1  karthiga,59,7,2255153,Female,Chobits,TV,Manga,...                                               \n",
            "2  karthiga,74,7,2255153,Female,Gakuen Alice,TV,M...                                               \n",
            "3  karthiga,120,7,2255153,Female,Fruits Basket,TV...                                               \n",
            "4  karthiga,178,7,2255153,Female,Ultra Maniac,TV,...                                               \n"
          ]
        }
      ]
    },
    {
      "cell_type": "code",
      "source": [
        "import pandas as pd\n",
        "import yaml\n",
        "\n",
        "# Load the config file\n",
        "with open('config.yaml', 'r') as config_file:\n",
        "    config_data = yaml.safe_load(config_file)\n",
        "\n",
        "try:\n",
        "    # Read the CSV file based on the config settings\n",
        "    file_type = config_data['file_type']\n",
        "    source_file = \"./\" + config_data['file_name'] + f'.{file_type}'\n",
        "    df = pd.read_csv(source_file, config_data['inbound_delimiter'])\n",
        "\n",
        "    # Display the first few rows of the DataFrame\n",
        "    print(df.head())\n",
        "except FileNotFoundError:\n",
        "    print(f\"Error: File '{source_file}' not found.\")\n",
        "except pd.errors.EmptyDataError:\n",
        "    print(\"Error: The file is empty or contains no data.\")\n",
        "except pd.errors.ParserError:\n",
        "    print(\"Error: There was an issue parsing the CSV file. Check the format and delimiter.\")\n",
        "except Exception as e:\n",
        "    print(\"An unexpected error occurred:\", str(e))\n",
        "\n"
      ],
      "metadata": {
        "colab": {
          "base_uri": "https://localhost:8080/"
        },
        "id": "mY0KueUsfkjX",
        "outputId": "7e5ac5ec-3ec5-43a0-95a7-850f34b0b36b"
      },
      "execution_count": 62,
      "outputs": [
        {
          "output_type": "stream",
          "name": "stderr",
          "text": [
            "<ipython-input-62-f433b16f7ff3>:12: FutureWarning: In a future version of pandas all arguments of read_csv except for the argument 'filepath_or_buffer' will be keyword-only.\n",
            "  df = pd.read_csv(source_file, config_data['inbound_delimiter'])\n",
            "<ipython-input-62-f433b16f7ff3>:12: ParserWarning: Falling back to the 'python' engine because the 'c' engine does not support regex separators (separators > 1 char and different from '\\s+' are interpreted as regex); you can avoid this warning by specifying engine='python'.\n",
            "  df = pd.read_csv(source_file, config_data['inbound_delimiter'])\n"
          ]
        },
        {
          "output_type": "stream",
          "name": "stdout",
          "text": [
            "  username,anime_id,my_score,user_id,gender,title,type,source,score,scored_by,rank,popularity,genre\n",
            "0  karthiga,21,9,2255153,Female,One Piece,TV,Mang...                                               \n",
            "1  karthiga,59,7,2255153,Female,Chobits,TV,Manga,...                                               \n",
            "2  karthiga,74,7,2255153,Female,Gakuen Alice,TV,M...                                               \n",
            "3  karthiga,120,7,2255153,Female,Fruits Basket,TV...                                               \n",
            "4  karthiga,178,7,2255153,Female,Ultra Maniac,TV,...                                               \n"
          ]
        }
      ]
    },
    {
      "cell_type": "code",
      "source": [
        "df.info()"
      ],
      "metadata": {
        "id": "IbhSPsPKgPE0",
        "colab": {
          "base_uri": "https://localhost:8080/"
        },
        "outputId": "1b8b2bff-bbed-4cc6-d89e-10e0ac282555"
      },
      "execution_count": 63,
      "outputs": [
        {
          "output_type": "stream",
          "name": "stdout",
          "text": [
            "<class 'pandas.core.frame.DataFrame'>\n",
            "RangeIndex: 1048575 entries, 0 to 1048574\n",
            "Data columns (total 1 columns):\n",
            " #   Column                                                                                             Non-Null Count    Dtype \n",
            "---  ------                                                                                             --------------    ----- \n",
            " 0   username,anime_id,my_score,user_id,gender,title,type,source,score,scored_by,rank,popularity,genre  1048575 non-null  object\n",
            "dtypes: object(1)\n",
            "memory usage: 8.0+ MB\n"
          ]
        }
      ]
    },
    {
      "cell_type": "code",
      "source": [
        "import sys\n",
        "sys.path.append('/path/to/util/directory')\n"
      ],
      "metadata": {
        "id": "lwxZGLUSiPpE"
      },
      "execution_count": 64,
      "outputs": []
    },
    {
      "cell_type": "code",
      "source": [
        "   # Load the config file\n",
        "with open('config.yaml', 'r') as config_file:\n",
        "    config_data = yaml.safe_load(config_file)\n",
        "\n",
        "# Check if 'expected_columns' key exists in config_data dictionary\n",
        "if 'expected_columns' not in config_data:\n",
        "    raise ValueError(\"The 'expected_columns' key is missing in the config file.\")\n",
        "\n",
        "# Continue with the rest of the code for header validation\n",
        "# ...\n",
        "\n",
        "\n",
        ""
      ],
      "metadata": {
        "id": "B40JbkkhiDXn"
      },
      "execution_count": 65,
      "outputs": []
    },
    {
      "cell_type": "code",
      "source": [
        "import dask.dataframe as dd\n",
        "from pathlib import Path"
      ],
      "metadata": {
        "id": "4IhGff0TjQ_V"
      },
      "execution_count": 49,
      "outputs": []
    },
    {
      "cell_type": "code",
      "source": [
        "%%time\n",
        "data = dd.read_csv(\"final_animedataset.csv\")"
      ],
      "metadata": {
        "colab": {
          "base_uri": "https://localhost:8080/"
        },
        "id": "fuR84id5jVF4",
        "outputId": "58bed663-0caa-4387-b031-b5ee26878976"
      },
      "execution_count": 50,
      "outputs": [
        {
          "output_type": "stream",
          "name": "stdout",
          "text": [
            "CPU times: user 15.3 ms, sys: 0 ns, total: 15.3 ms\n",
            "Wall time: 22.3 ms\n"
          ]
        }
      ]
    },
    {
      "cell_type": "code",
      "source": [
        "df"
      ],
      "metadata": {
        "colab": {
          "base_uri": "https://localhost:8080/",
          "height": 424
        },
        "id": "9iBiZ-0cja7F",
        "outputId": "2a1a8bf6-c414-43ff-e343-040281c6d89c"
      },
      "execution_count": 51,
      "outputs": [
        {
          "output_type": "execute_result",
          "data": {
            "text/plain": [
              "        username,anime_id,my_score,user_id,gender,title,type,source,score,scored_by,rank,popularity,genre\n",
              "0        karthiga,21,9,2255153,Female,One Piece,TV,Mang...                                               \n",
              "1        karthiga,59,7,2255153,Female,Chobits,TV,Manga,...                                               \n",
              "2        karthiga,74,7,2255153,Female,Gakuen Alice,TV,M...                                               \n",
              "3        karthiga,120,7,2255153,Female,Fruits Basket,TV...                                               \n",
              "4        karthiga,178,7,2255153,Female,Ultra Maniac,TV,...                                               \n",
              "...                                                    ...                                               \n",
              "1048570  Necronomicon,4872,9,118680,Non-Binary,Goku Say...                                               \n",
              "1048571  Necronomicon,4879,8,118680,Non-Binary,Mouryou ...                                               \n",
              "1048572  Necronomicon,4896,6,118680,Non-Binary,Umineko ...                                               \n",
              "1048573  Necronomicon,4898,0,118680,Non-Binary,Kuroshit...                                               \n",
              "1048574  Necronomicon,4975,7,118680,Non-Binary,ChäoS;HE...                                               \n",
              "\n",
              "[1048575 rows x 1 columns]"
            ],
            "text/html": [
              "\n",
              "\n",
              "  <div id=\"df-b7961bbb-0e7b-4912-abaf-aec08952115f\">\n",
              "    <div class=\"colab-df-container\">\n",
              "      <div>\n",
              "<style scoped>\n",
              "    .dataframe tbody tr th:only-of-type {\n",
              "        vertical-align: middle;\n",
              "    }\n",
              "\n",
              "    .dataframe tbody tr th {\n",
              "        vertical-align: top;\n",
              "    }\n",
              "\n",
              "    .dataframe thead th {\n",
              "        text-align: right;\n",
              "    }\n",
              "</style>\n",
              "<table border=\"1\" class=\"dataframe\">\n",
              "  <thead>\n",
              "    <tr style=\"text-align: right;\">\n",
              "      <th></th>\n",
              "      <th>username,anime_id,my_score,user_id,gender,title,type,source,score,scored_by,rank,popularity,genre</th>\n",
              "    </tr>\n",
              "  </thead>\n",
              "  <tbody>\n",
              "    <tr>\n",
              "      <th>0</th>\n",
              "      <td>karthiga,21,9,2255153,Female,One Piece,TV,Mang...</td>\n",
              "    </tr>\n",
              "    <tr>\n",
              "      <th>1</th>\n",
              "      <td>karthiga,59,7,2255153,Female,Chobits,TV,Manga,...</td>\n",
              "    </tr>\n",
              "    <tr>\n",
              "      <th>2</th>\n",
              "      <td>karthiga,74,7,2255153,Female,Gakuen Alice,TV,M...</td>\n",
              "    </tr>\n",
              "    <tr>\n",
              "      <th>3</th>\n",
              "      <td>karthiga,120,7,2255153,Female,Fruits Basket,TV...</td>\n",
              "    </tr>\n",
              "    <tr>\n",
              "      <th>4</th>\n",
              "      <td>karthiga,178,7,2255153,Female,Ultra Maniac,TV,...</td>\n",
              "    </tr>\n",
              "    <tr>\n",
              "      <th>...</th>\n",
              "      <td>...</td>\n",
              "    </tr>\n",
              "    <tr>\n",
              "      <th>1048570</th>\n",
              "      <td>Necronomicon,4872,9,118680,Non-Binary,Goku Say...</td>\n",
              "    </tr>\n",
              "    <tr>\n",
              "      <th>1048571</th>\n",
              "      <td>Necronomicon,4879,8,118680,Non-Binary,Mouryou ...</td>\n",
              "    </tr>\n",
              "    <tr>\n",
              "      <th>1048572</th>\n",
              "      <td>Necronomicon,4896,6,118680,Non-Binary,Umineko ...</td>\n",
              "    </tr>\n",
              "    <tr>\n",
              "      <th>1048573</th>\n",
              "      <td>Necronomicon,4898,0,118680,Non-Binary,Kuroshit...</td>\n",
              "    </tr>\n",
              "    <tr>\n",
              "      <th>1048574</th>\n",
              "      <td>Necronomicon,4975,7,118680,Non-Binary,ChäoS;HE...</td>\n",
              "    </tr>\n",
              "  </tbody>\n",
              "</table>\n",
              "<p>1048575 rows × 1 columns</p>\n",
              "</div>\n",
              "      <button class=\"colab-df-convert\" onclick=\"convertToInteractive('df-b7961bbb-0e7b-4912-abaf-aec08952115f')\"\n",
              "              title=\"Convert this dataframe to an interactive table.\"\n",
              "              style=\"display:none;\">\n",
              "\n",
              "  <svg xmlns=\"http://www.w3.org/2000/svg\" height=\"24px\"viewBox=\"0 0 24 24\"\n",
              "       width=\"24px\">\n",
              "    <path d=\"M0 0h24v24H0V0z\" fill=\"none\"/>\n",
              "    <path d=\"M18.56 5.44l.94 2.06.94-2.06 2.06-.94-2.06-.94-.94-2.06-.94 2.06-2.06.94zm-11 1L8.5 8.5l.94-2.06 2.06-.94-2.06-.94L8.5 2.5l-.94 2.06-2.06.94zm10 10l.94 2.06.94-2.06 2.06-.94-2.06-.94-.94-2.06-.94 2.06-2.06.94z\"/><path d=\"M17.41 7.96l-1.37-1.37c-.4-.4-.92-.59-1.43-.59-.52 0-1.04.2-1.43.59L10.3 9.45l-7.72 7.72c-.78.78-.78 2.05 0 2.83L4 21.41c.39.39.9.59 1.41.59.51 0 1.02-.2 1.41-.59l7.78-7.78 2.81-2.81c.8-.78.8-2.07 0-2.86zM5.41 20L4 18.59l7.72-7.72 1.47 1.35L5.41 20z\"/>\n",
              "  </svg>\n",
              "      </button>\n",
              "\n",
              "\n",
              "\n",
              "    <div id=\"df-9c374d9d-7aa6-40f1-bb04-38c2eb8af459\">\n",
              "      <button class=\"colab-df-quickchart\" onclick=\"quickchart('df-9c374d9d-7aa6-40f1-bb04-38c2eb8af459')\"\n",
              "              title=\"Suggest charts.\"\n",
              "              style=\"display:none;\">\n",
              "\n",
              "<svg xmlns=\"http://www.w3.org/2000/svg\" height=\"24px\"viewBox=\"0 0 24 24\"\n",
              "     width=\"24px\">\n",
              "    <g>\n",
              "        <path d=\"M19 3H5c-1.1 0-2 .9-2 2v14c0 1.1.9 2 2 2h14c1.1 0 2-.9 2-2V5c0-1.1-.9-2-2-2zM9 17H7v-7h2v7zm4 0h-2V7h2v10zm4 0h-2v-4h2v4z\"/>\n",
              "    </g>\n",
              "</svg>\n",
              "      </button>\n",
              "    </div>\n",
              "\n",
              "<style>\n",
              "  .colab-df-quickchart {\n",
              "    background-color: #E8F0FE;\n",
              "    border: none;\n",
              "    border-radius: 50%;\n",
              "    cursor: pointer;\n",
              "    display: none;\n",
              "    fill: #1967D2;\n",
              "    height: 32px;\n",
              "    padding: 0 0 0 0;\n",
              "    width: 32px;\n",
              "  }\n",
              "\n",
              "  .colab-df-quickchart:hover {\n",
              "    background-color: #E2EBFA;\n",
              "    box-shadow: 0px 1px 2px rgba(60, 64, 67, 0.3), 0px 1px 3px 1px rgba(60, 64, 67, 0.15);\n",
              "    fill: #174EA6;\n",
              "  }\n",
              "\n",
              "  [theme=dark] .colab-df-quickchart {\n",
              "    background-color: #3B4455;\n",
              "    fill: #D2E3FC;\n",
              "  }\n",
              "\n",
              "  [theme=dark] .colab-df-quickchart:hover {\n",
              "    background-color: #434B5C;\n",
              "    box-shadow: 0px 1px 3px 1px rgba(0, 0, 0, 0.15);\n",
              "    filter: drop-shadow(0px 1px 2px rgba(0, 0, 0, 0.3));\n",
              "    fill: #FFFFFF;\n",
              "  }\n",
              "</style>\n",
              "\n",
              "    <script>\n",
              "      async function quickchart(key) {\n",
              "        const containerElement = document.querySelector('#' + key);\n",
              "        const charts = await google.colab.kernel.invokeFunction(\n",
              "            'suggestCharts', [key], {});\n",
              "      }\n",
              "    </script>\n",
              "\n",
              "      <script>\n",
              "\n",
              "function displayQuickchartButton(domScope) {\n",
              "  let quickchartButtonEl =\n",
              "    domScope.querySelector('#df-9c374d9d-7aa6-40f1-bb04-38c2eb8af459 button.colab-df-quickchart');\n",
              "  quickchartButtonEl.style.display =\n",
              "    google.colab.kernel.accessAllowed ? 'block' : 'none';\n",
              "}\n",
              "\n",
              "        displayQuickchartButton(document);\n",
              "      </script>\n",
              "      <style>\n",
              "    .colab-df-container {\n",
              "      display:flex;\n",
              "      flex-wrap:wrap;\n",
              "      gap: 12px;\n",
              "    }\n",
              "\n",
              "    .colab-df-convert {\n",
              "      background-color: #E8F0FE;\n",
              "      border: none;\n",
              "      border-radius: 50%;\n",
              "      cursor: pointer;\n",
              "      display: none;\n",
              "      fill: #1967D2;\n",
              "      height: 32px;\n",
              "      padding: 0 0 0 0;\n",
              "      width: 32px;\n",
              "    }\n",
              "\n",
              "    .colab-df-convert:hover {\n",
              "      background-color: #E2EBFA;\n",
              "      box-shadow: 0px 1px 2px rgba(60, 64, 67, 0.3), 0px 1px 3px 1px rgba(60, 64, 67, 0.15);\n",
              "      fill: #174EA6;\n",
              "    }\n",
              "\n",
              "    [theme=dark] .colab-df-convert {\n",
              "      background-color: #3B4455;\n",
              "      fill: #D2E3FC;\n",
              "    }\n",
              "\n",
              "    [theme=dark] .colab-df-convert:hover {\n",
              "      background-color: #434B5C;\n",
              "      box-shadow: 0px 1px 3px 1px rgba(0, 0, 0, 0.15);\n",
              "      filter: drop-shadow(0px 1px 2px rgba(0, 0, 0, 0.3));\n",
              "      fill: #FFFFFF;\n",
              "    }\n",
              "  </style>\n",
              "\n",
              "      <script>\n",
              "        const buttonEl =\n",
              "          document.querySelector('#df-b7961bbb-0e7b-4912-abaf-aec08952115f button.colab-df-convert');\n",
              "        buttonEl.style.display =\n",
              "          google.colab.kernel.accessAllowed ? 'block' : 'none';\n",
              "\n",
              "        async function convertToInteractive(key) {\n",
              "          const element = document.querySelector('#df-b7961bbb-0e7b-4912-abaf-aec08952115f');\n",
              "          const dataTable =\n",
              "            await google.colab.kernel.invokeFunction('convertToInteractive',\n",
              "                                                     [key], {});\n",
              "          if (!dataTable) return;\n",
              "\n",
              "          const docLinkHtml = 'Like what you see? Visit the ' +\n",
              "            '<a target=\"_blank\" href=https://colab.research.google.com/notebooks/data_table.ipynb>data table notebook</a>'\n",
              "            + ' to learn more about interactive tables.';\n",
              "          element.innerHTML = '';\n",
              "          dataTable['output_type'] = 'display_data';\n",
              "          await google.colab.output.renderOutput(dataTable, element);\n",
              "          const docLink = document.createElement('div');\n",
              "          docLink.innerHTML = docLinkHtml;\n",
              "          element.appendChild(docLink);\n",
              "        }\n",
              "      </script>\n",
              "    </div>\n",
              "  </div>\n"
            ]
          },
          "metadata": {},
          "execution_count": 51
        }
      ]
    },
    {
      "cell_type": "code",
      "source": [
        "\n",
        "df.shape"
      ],
      "metadata": {
        "colab": {
          "base_uri": "https://localhost:8080/"
        },
        "id": "ZKXHttxSjdTE",
        "outputId": "6630de1b-1d74-4d2d-8650-60f60dee2ff4"
      },
      "execution_count": 52,
      "outputs": [
        {
          "output_type": "execute_result",
          "data": {
            "text/plain": [
              "(1048575, 1)"
            ]
          },
          "metadata": {},
          "execution_count": 52
        }
      ]
    },
    {
      "cell_type": "code",
      "source": [
        "\n",
        "df.info()"
      ],
      "metadata": {
        "colab": {
          "base_uri": "https://localhost:8080/"
        },
        "id": "JALlunkmjjr4",
        "outputId": "8bad22e5-d1e0-4810-9742-0d63e6b9df5b"
      },
      "execution_count": 53,
      "outputs": [
        {
          "output_type": "stream",
          "name": "stdout",
          "text": [
            "<class 'pandas.core.frame.DataFrame'>\n",
            "RangeIndex: 1048575 entries, 0 to 1048574\n",
            "Data columns (total 1 columns):\n",
            " #   Column                                                                                             Non-Null Count    Dtype \n",
            "---  ------                                                                                             --------------    ----- \n",
            " 0   username,anime_id,my_score,user_id,gender,title,type,source,score,scored_by,rank,popularity,genre  1048575 non-null  object\n",
            "dtypes: object(1)\n",
            "memory usage: 8.0+ MB\n"
          ]
        }
      ]
    },
    {
      "cell_type": "code",
      "source": [],
      "metadata": {
        "id": "JiJosZwmjmA-"
      },
      "execution_count": null,
      "outputs": []
    }
  ]
}